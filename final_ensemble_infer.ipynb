{
  "cells": [
    {
      "cell_type": "code",
      "execution_count": null,
      "metadata": {
        "id": "dP7u_GsyfOc_"
      },
      "outputs": [],
      "source": [
        "from torch.utils.data import DataLoader\n",
        "import torch\n",
        "import torch.nn as nn\n",
        "import yaml\n",
        "import argparse\n",
        "from tqdm import tqdm\n",
        "import numpy as np\n",
        "import pandas as pd\n",
        "\n",
        "from pathlib import Path\n",
        "from collections import Counter\n",
        "from scipy import stats\n",
        "import math\n",
        "import os\n",
        "\n",
        "from scipy import stats\n",
        "\n",
        "\n",
        "# 데이터 유출 방지를 위해 model_result에 있는 파일은 공개하지 않음.\n",
        "\n",
        "validation = True\n",
        "if validation:\n",
        "    output = pd.read_csv(\"NLP_dataset/sample_val_submission.csv\")\n",
        "    csvpath = \"model_result/outEDA_result\"\n",
        "else:      \n",
        "    output = pd.read_csv(\"NLP_dataset/sample_submission.csv\")\n",
        "    csvpath = \"model_result/output\"\n",
        "    \n",
        "model_df = {}\n",
        "\n",
        "\n",
        "for p in Path(csvpath).glob('*'):\n",
        "    if validation:\n",
        "        df = output.copy()\n",
        "        eda_df = pd.read_csv(p)\n",
        "        df['target'] = round(np.clip(eda_df['pred'], 0, 5), 1)\n",
        "    else:\n",
        "        df = pd.read_csv(p)\n",
        "    model_df[p.name[:-4]] = df \n",
        "    \n",
        "label_models_list = [['wrMSE_1_e12', 'fine_tuning_mecab_e8', 'klue-roberta-large_last'],\n",
        "               ['fine_tuning_mecab_e8', 'klue-roberta-large_last', 'MLM2STS_last'],\n",
        "               ['klue-roberta-large_last', 'wrMSE_2_e9', 'NLI2STS_e7'],\n",
        "               ['fine_tuning_mecab_e8', 'klue-roberta-large_last', 'MLM2STS_last'],\n",
        "               [ 'wrMSE_4_e12', 'klue-roberta-large_last', 'NLI2STS_e7']]\n",
        "\n",
        "\n",
        "pred_aver = pd.DataFrame() \n",
        "for label_pos, models in enumerate(label_models_list):\n",
        "    x = pd.concat([model_df[m] for m in models], axis= 1).mean(axis='columns')\n",
        "    pred_aver = pd.concat([pred_aver, x], axis=1)\n",
        "\n",
        "pred_aver.columns = [0, 1, 2, 3, 4]"
      ]
    },
    {
      "cell_type": "code",
      "execution_count": null,
      "metadata": {
        "id": "9qyul82EfOdL"
      },
      "outputs": [],
      "source": [
        "\n",
        "weighted_vote = False\n",
        "final_preds = []\n",
        "\n",
        "for idx in range(len(output)):\n",
        "    row_pred = []\n",
        "    for model_name, df in model_df.items():\n",
        "        if weighted_vote:\n",
        "            row_pred.append(math.floor(df.loc[idx, 'target']*0.999))\n",
        "        else:\n",
        "            row_pred.append(df.loc[idx, 'target'])\n",
        "            \n",
        "    if weighted_vote:        \n",
        "        label_counter = dict(Counter(row_pred))\n",
        "        x = sum([v*pred_aver.loc[idx, k] for k, v in label_counter.items()]) / len(model_df)\n",
        "        final_preds.append(x)     \n",
        "    else:\n",
        "        x = sum(row_pred) / len(model_df)\n",
        "        final_preds.append(x)\n",
        "\n",
        "if validation:\n",
        "    val_label = pd.read_csv(\"NLP_dataset/han_processed_dev.csv\")\n",
        "    final_preds = [round(np.clip(p, 0, 5), 1) for p in final_preds]\n",
        "    output['target'] = final_preds\n",
        "    print('pearson :', stats.pearsonr(final_preds, val_label['label']))\n",
        "else:      \n",
        "    final_preds = [round(np.clip(p, 0, 5), 1) for p in final_preds]\n",
        "    output['target'] = final_preds\n",
        "    output.to_csv(\"output.csv\", index=False)"
      ]
    }
  ],
  "metadata": {
    "kernelspec": {
      "display_name": "Python 3.8.5 ('base')",
      "language": "python",
      "name": "python3"
    },
    "language_info": {
      "codemirror_mode": {
        "name": "ipython",
        "version": 3
      },
      "file_extension": ".py",
      "mimetype": "text/x-python",
      "name": "python",
      "nbconvert_exporter": "python",
      "pygments_lexer": "ipython3",
      "version": "3.8.5"
    },
    "orig_nbformat": 4,
    "vscode": {
      "interpreter": {
        "hash": "d4d1e4263499bec80672ea0156c357c1ee493ec2b1c70f0acce89fc37c4a6abe"
      }
    },
    "colab": {
      "provenance": []
    }
  },
  "nbformat": 4,
  "nbformat_minor": 0
}