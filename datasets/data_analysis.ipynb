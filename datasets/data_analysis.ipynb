{
 "cells": [
  {
   "cell_type": "code",
   "execution_count": 3,
   "metadata": {},
   "outputs": [],
   "source": [
    "import pandas as pd\n",
    "\n",
    "train_df = pd.read_csv('../NLP_dataset/train.csv')\n",
    "test_df = pd.read_csv('../NLP_dataset/test.csv')\n",
    "dev_df = pd.read_csv('../NLP_dataset/dev.csv')"
   ]
  },
  {
   "cell_type": "code",
   "execution_count": 138,
   "metadata": {},
   "outputs": [
    {
     "data": {
      "text/html": [
       "<div>\n",
       "<style scoped>\n",
       "    .dataframe tbody tr th:only-of-type {\n",
       "        vertical-align: middle;\n",
       "    }\n",
       "\n",
       "    .dataframe tbody tr th {\n",
       "        vertical-align: top;\n",
       "    }\n",
       "\n",
       "    .dataframe thead th {\n",
       "        text-align: right;\n",
       "    }\n",
       "</style>\n",
       "<table border=\"1\" class=\"dataframe\">\n",
       "  <thead>\n",
       "    <tr style=\"text-align: right;\">\n",
       "      <th></th>\n",
       "      <th>id</th>\n",
       "      <th>source</th>\n",
       "      <th>sentence_1</th>\n",
       "      <th>sentence_2</th>\n",
       "      <th>label</th>\n",
       "      <th>binary-label</th>\n",
       "    </tr>\n",
       "  </thead>\n",
       "  <tbody>\n",
       "    <tr>\n",
       "      <th>0</th>\n",
       "      <td>boostcamp-sts-v1-train-000</td>\n",
       "      <td>nsmc-sampled</td>\n",
       "      <td>스릴도있고 반전도 있고 여느 한국영화 쓰레기들하고는 차원이 다르네요~</td>\n",
       "      <td>반전도 있고,사랑도 있고재미도있네요.</td>\n",
       "      <td>2.2</td>\n",
       "      <td>0.0</td>\n",
       "    </tr>\n",
       "    <tr>\n",
       "      <th>1</th>\n",
       "      <td>boostcamp-sts-v1-train-001</td>\n",
       "      <td>slack-rtt</td>\n",
       "      <td>앗 제가 접근권한이 없다고 뜹니다;;</td>\n",
       "      <td>오, 액세스 권한이 없다고 합니다.</td>\n",
       "      <td>4.2</td>\n",
       "      <td>1.0</td>\n",
       "    </tr>\n",
       "    <tr>\n",
       "      <th>2</th>\n",
       "      <td>boostcamp-sts-v1-train-002</td>\n",
       "      <td>petition-sampled</td>\n",
       "      <td>주택청약조건 변경해주세요.</td>\n",
       "      <td>주택청약 무주택기준 변경해주세요.</td>\n",
       "      <td>2.4</td>\n",
       "      <td>0.0</td>\n",
       "    </tr>\n",
       "    <tr>\n",
       "      <th>3</th>\n",
       "      <td>boostcamp-sts-v1-train-003</td>\n",
       "      <td>slack-sampled</td>\n",
       "      <td>입사후 처음 대면으로 만나 반가웠습니다.</td>\n",
       "      <td>화상으로만 보다가 리얼로 만나니 정말 반가웠습니다.</td>\n",
       "      <td>3.0</td>\n",
       "      <td>1.0</td>\n",
       "    </tr>\n",
       "    <tr>\n",
       "      <th>4</th>\n",
       "      <td>boostcamp-sts-v1-train-004</td>\n",
       "      <td>slack-sampled</td>\n",
       "      <td>뿌듯뿌듯 하네요!!</td>\n",
       "      <td>꼬옥 실제로 한번 뵈어요 뿌뿌뿌~!~!</td>\n",
       "      <td>0.0</td>\n",
       "      <td>0.0</td>\n",
       "    </tr>\n",
       "    <tr>\n",
       "      <th>...</th>\n",
       "      <td>...</td>\n",
       "      <td>...</td>\n",
       "      <td>...</td>\n",
       "      <td>...</td>\n",
       "      <td>...</td>\n",
       "      <td>...</td>\n",
       "    </tr>\n",
       "    <tr>\n",
       "      <th>9319</th>\n",
       "      <td>boostcamp-sts-v1-train-9319</td>\n",
       "      <td>petition-sampled</td>\n",
       "      <td>교원능력개발평가에서 교원이 보호받을 수 있는 장치를 마련해야합니다</td>\n",
       "      <td>본인이 납부한 국민연금 금액을 기준으로 대출을 받을 수 있는 제도를 마련해 주세요</td>\n",
       "      <td>0.2</td>\n",
       "      <td>0.0</td>\n",
       "    </tr>\n",
       "    <tr>\n",
       "      <th>9320</th>\n",
       "      <td>boostcamp-sts-v1-train-9320</td>\n",
       "      <td>petition-sampled</td>\n",
       "      <td>여성가족부의 폐지를 원합니드</td>\n",
       "      <td>여성가족부 폐지를 청원 합니다.</td>\n",
       "      <td>4.2</td>\n",
       "      <td>1.0</td>\n",
       "    </tr>\n",
       "    <tr>\n",
       "      <th>9321</th>\n",
       "      <td>boostcamp-sts-v1-train-9321</td>\n",
       "      <td>petition-sampled</td>\n",
       "      <td>국회의원들 월급좀 줄여주세요</td>\n",
       "      <td>공무원 봉급좀 줄이지좀 마세요</td>\n",
       "      <td>0.6</td>\n",
       "      <td>0.0</td>\n",
       "    </tr>\n",
       "    <tr>\n",
       "      <th>9322</th>\n",
       "      <td>boostcamp-sts-v1-train-9322</td>\n",
       "      <td>slack-sampled</td>\n",
       "      <td>오늘 못한 점심은 다음에 다시 츄라이 하기로 해요!!</td>\n",
       "      <td>오늘 못먹은 밥은 꼭 담에 먹기로 하고요!!</td>\n",
       "      <td>3.2</td>\n",
       "      <td>1.0</td>\n",
       "    </tr>\n",
       "    <tr>\n",
       "      <th>9323</th>\n",
       "      <td>boostcamp-sts-v1-train-9323</td>\n",
       "      <td>petition-sampled</td>\n",
       "      <td>법정공휴일 휴무관련 (근로자)</td>\n",
       "      <td>법정공휴일의 유급휴무화를 막아야 합니다.</td>\n",
       "      <td>1.4</td>\n",
       "      <td>0.0</td>\n",
       "    </tr>\n",
       "  </tbody>\n",
       "</table>\n",
       "<p>9324 rows × 6 columns</p>\n",
       "</div>"
      ],
      "text/plain": [
       "                               id            source  \\\n",
       "0      boostcamp-sts-v1-train-000      nsmc-sampled   \n",
       "1      boostcamp-sts-v1-train-001         slack-rtt   \n",
       "2      boostcamp-sts-v1-train-002  petition-sampled   \n",
       "3      boostcamp-sts-v1-train-003     slack-sampled   \n",
       "4      boostcamp-sts-v1-train-004     slack-sampled   \n",
       "...                           ...               ...   \n",
       "9319  boostcamp-sts-v1-train-9319  petition-sampled   \n",
       "9320  boostcamp-sts-v1-train-9320  petition-sampled   \n",
       "9321  boostcamp-sts-v1-train-9321  petition-sampled   \n",
       "9322  boostcamp-sts-v1-train-9322     slack-sampled   \n",
       "9323  boostcamp-sts-v1-train-9323  petition-sampled   \n",
       "\n",
       "                                  sentence_1  \\\n",
       "0     스릴도있고 반전도 있고 여느 한국영화 쓰레기들하고는 차원이 다르네요~   \n",
       "1                       앗 제가 접근권한이 없다고 뜹니다;;   \n",
       "2                             주택청약조건 변경해주세요.   \n",
       "3                     입사후 처음 대면으로 만나 반가웠습니다.   \n",
       "4                                 뿌듯뿌듯 하네요!!   \n",
       "...                                      ...   \n",
       "9319    교원능력개발평가에서 교원이 보호받을 수 있는 장치를 마련해야합니다   \n",
       "9320                         여성가족부의 폐지를 원합니드   \n",
       "9321                         국회의원들 월급좀 줄여주세요   \n",
       "9322           오늘 못한 점심은 다음에 다시 츄라이 하기로 해요!!   \n",
       "9323                        법정공휴일 휴무관련 (근로자)   \n",
       "\n",
       "                                         sentence_2  label  binary-label  \n",
       "0                              반전도 있고,사랑도 있고재미도있네요.    2.2           0.0  \n",
       "1                               오, 액세스 권한이 없다고 합니다.    4.2           1.0  \n",
       "2                                주택청약 무주택기준 변경해주세요.    2.4           0.0  \n",
       "3                      화상으로만 보다가 리얼로 만나니 정말 반가웠습니다.    3.0           1.0  \n",
       "4                             꼬옥 실제로 한번 뵈어요 뿌뿌뿌~!~!    0.0           0.0  \n",
       "...                                             ...    ...           ...  \n",
       "9319  본인이 납부한 국민연금 금액을 기준으로 대출을 받을 수 있는 제도를 마련해 주세요    0.2           0.0  \n",
       "9320                              여성가족부 폐지를 청원 합니다.    4.2           1.0  \n",
       "9321                               공무원 봉급좀 줄이지좀 마세요    0.6           0.0  \n",
       "9322                       오늘 못먹은 밥은 꼭 담에 먹기로 하고요!!    3.2           1.0  \n",
       "9323                         법정공휴일의 유급휴무화를 막아야 합니다.    1.4           0.0  \n",
       "\n",
       "[9324 rows x 6 columns]"
      ]
     },
     "execution_count": 138,
     "metadata": {},
     "output_type": "execute_result"
    }
   ],
   "source": [
    "train_df"
   ]
  },
  {
   "cell_type": "markdown",
   "metadata": {},
   "source": [
    "### source와 label의 피어슨 상관계수"
   ]
  },
  {
   "cell_type": "code",
   "execution_count": 139,
   "metadata": {},
   "outputs": [
    {
     "name": "stderr",
     "output_type": "stream",
     "text": [
      "/opt/conda/lib/python3.8/site-packages/tqdm/auto.py:22: TqdmWarning: IProgress not found. Please update jupyter and ipywidgets. See https://ipywidgets.readthedocs.io/en/stable/user_install.html\n",
      "  from .autonotebook import tqdm as notebook_tqdm\n"
     ]
    },
    {
     "name": "stdout",
     "output_type": "stream",
     "text": [
      "{'nsmc-sampled': 1, 'slack-rtt': 2, 'petition-sampled': 3, 'slack-sampled': 4, 'nsmc-rtt': 5, 'petition-rtt': 6}\n"
     ]
    },
    {
     "data": {
      "text/plain": [
       "tensor(0.2322)"
      ]
     },
     "execution_count": 139,
     "metadata": {},
     "output_type": "execute_result"
    }
   ],
   "source": [
    "import torch\n",
    "from torchmetrics import PearsonCorrCoef\n",
    "from collections import Counter\n",
    "\n",
    "\n",
    "\n",
    "target = train_df['source']\n",
    "target_cnt = Counter(target)\n",
    "target_dict = {}\n",
    "i = 1\n",
    "for key, value in target_cnt.items():\n",
    "    target_dict[key] = i\n",
    "    i += 1\n",
    "\n",
    "print(target_dict)\n",
    "\n",
    "def to_number(elem):\n",
    "    return target_dict[elem]\n",
    "\n",
    "\n",
    "target_tensor = torch.FloatTensor(list(map(to_number, train_df['source'])))\n",
    "preds_tensor = torch.FloatTensor(train_df['label'])\n",
    "\n",
    "pearson = PearsonCorrCoef()\n",
    "pearson(preds_tensor, target_tensor) #low positive correlation"
   ]
  },
  {
   "cell_type": "markdown",
   "metadata": {},
   "source": [
    "### Source 상관관계 그림으로 그려보기"
   ]
  },
  {
   "cell_type": "code",
   "execution_count": 147,
   "metadata": {},
   "outputs": [
    {
     "data": {
      "text/plain": [
       "{'whiskers': [<matplotlib.lines.Line2D at 0x7f16ac4df3d0>,\n",
       "  <matplotlib.lines.Line2D at 0x7f16ac4df670>],\n",
       " 'caps': [<matplotlib.lines.Line2D at 0x7f16ac4df910>,\n",
       "  <matplotlib.lines.Line2D at 0x7f16ac4dfbb0>],\n",
       " 'boxes': [<matplotlib.lines.Line2D at 0x7f16ac4df130>],\n",
       " 'medians': [<matplotlib.lines.Line2D at 0x7f16ac4dfe50>],\n",
       " 'fliers': [<matplotlib.lines.Line2D at 0x7f16ac4ef130>],\n",
       " 'means': []}"
      ]
     },
     "execution_count": 147,
     "metadata": {},
     "output_type": "execute_result"
    },
    {
     "data": {
      "image/png": "[encoded data removed]",
      "text/plain": [
       "<Figure size 900x900 with 1 Axes>"
      ]
     },
     "metadata": {},
     "output_type": "display_data"
    }
   ],
   "source": [
    "import matplotlib.pyplot as plt\n",
    "\n",
    "x1 = train_df[train_df['source'] == 'nsmc-sampled']\n",
    "x2 = train_df[train_df['source'] == 'nsmc-rtt']\n",
    "\n",
    "x1_ = [i for i in range(len(x1))]\n",
    "x2_ = [j for j in range(len(x2))]\n",
    "\n",
    "plt.figure(figsize=(9, 9))\n",
    "# plt.scatter(x1_, x1['label'], s=10, c='red')\n",
    "# plt.scatter(x2_, x2['label'], s=10)\n",
    "\n"
   ]
  },
  {
   "cell_type": "code",
   "execution_count": 149,
   "metadata": {},
   "outputs": [
    {
     "data": {
      "text/plain": [
       "<matplotlib.collections.PathCollection at 0x7f16ac499f40>"
      ]
     },
     "execution_count": 149,
     "metadata": {},
     "output_type": "execute_result"
    },
    {
     "data": {
      "image/png": "[encoded data removed]",
      "text/plain": [
       "<Figure size 900x900 with 1 Axes>"
      ]
     },
     "metadata": {},
     "output_type": "display_data"
    }
   ],
   "source": [
    "x3 = train_df[train_df['source'] == 'slack-sampled']\n",
    "x4 = train_df[train_df['source'] == 'slack-rtt']\n",
    "\n",
    "x3_ = [i for i in range(len(x3))]\n",
    "x4_ = [j for j in range(len(x4))]\n",
    "\n",
    "plt.figure(figsize=(9, 9))\n",
    "plt.scatter(x3_, x3['label'], s=10, c='red')\n",
    "plt.scatter(x4_, x4['label'], s=10)"
   ]
  },
  {
   "cell_type": "code",
   "execution_count": 150,
   "metadata": {},
   "outputs": [
    {
     "data": {
      "text/plain": [
       "<matplotlib.collections.PathCollection at 0x7f16ac3efbb0>"
      ]
     },
     "execution_count": 150,
     "metadata": {},
     "output_type": "execute_result"
    },
    {
     "data": {
      "image/png": "[encoded data removed]",
      "text/plain": [
       "<Figure size 900x900 with 1 Axes>"
      ]
     },
     "metadata": {},
     "output_type": "display_data"
    }
   ],
   "source": [
    "x5 = train_df[train_df['source'] == 'petition-sampled']\n",
    "x6 = train_df[train_df['source'] == 'petition-rtt']\n",
    "\n",
    "x5_ = [i for i in range(len(x5))]\n",
    "x6_ = [j for j in range(len(x6))]\n",
    "\n",
    "plt.figure(figsize=(9, 9))\n",
    "plt.scatter(x5_, x5['label'], s=10, c='red')\n",
    "plt.scatter(x6_, x6['label'], s=10)"
   ]
  },
  {
   "cell_type": "code",
   "execution_count": 151,
   "metadata": {},
   "outputs": [
    {
     "name": "stdout",
     "output_type": "stream",
     "text": [
      "tensor(0.0446)\n",
      "tensor(0.0292)\n",
      "tensor(0.0364)\n"
     ]
    }
   ],
   "source": [
    "x2_list = list(x2['label'])\n",
    "x1_list = list(x1['label'])\n",
    "nsmc_s_tensor = torch.FloatTensor(x1_list[:len(x2_list)])\n",
    "nsmc_r_tensor = torch.FloatTensor(x2_list)\n",
    "\n",
    "print(pearson(nsmc_r_tensor, nsmc_s_tensor))\n",
    "\n",
    "x3_list = list(x3['label'])\n",
    "x4_list = list(x4['label'])\n",
    "\n",
    "slack_s_tensor = torch.FloatTensor(x3_list[:len(x4_list)])\n",
    "slack_r_tensor = torch.FloatTensor(x4_list)\n",
    "\n",
    "print(pearson(slack_s_tensor, slack_r_tensor))\n",
    "\n",
    "x5_list = list(x5['label'])\n",
    "x6_list = list(x6['label'])\n",
    "\n",
    "petition_s_tensor = torch.FloatTensor(x5_list[:len(x6_list)])\n",
    "petition_r_tensor = torch.FloatTensor(x6_list)\n",
    "\n",
    "print(pearson(petition_s_tensor, petition_r_tensor))"
   ]
  },
  {
   "cell_type": "code",
   "execution_count": 154,
   "metadata": {},
   "outputs": [
    {
     "data": {
      "text/plain": [
       "[array([1., 1.]),\n",
       " array([3.6, 3.6]),\n",
       " array([0.4, 0.4]),\n",
       " array([3.6, 3.6]),\n",
       " array([1., 1.]),\n",
       " array([3.8, 3.8])]"
      ]
     },
     "execution_count": 154,
     "metadata": {},
     "output_type": "execute_result"
    },
    {
     "data": {
      "image/png": "[encoded data removed]",
      "text/plain": [
       "<Figure size 640x480 with 1 Axes>"
      ]
     },
     "metadata": {},
     "output_type": "display_data"
    }
   ],
   "source": [
    "box = plt.boxplot([x1['label'], x2['label'], x3['label'], x4['label'], x5['label'], x6['label']], notch=True)\n",
    "medians = [item.get_ydata() for item in box['medians']]\n",
    "medians"
   ]
  },
  {
   "cell_type": "code",
   "execution_count": 160,
   "metadata": {},
   "outputs": [
    {
     "data": {
      "text/plain": [
       "count    817.000000\n",
       "mean       3.590208\n",
       "std        1.048120\n",
       "min        0.000000\n",
       "25%        3.200000\n",
       "50%        3.800000\n",
       "75%        4.200000\n",
       "max        5.000000\n",
       "Name: label, dtype: float64"
      ]
     },
     "execution_count": 160,
     "metadata": {},
     "output_type": "execute_result"
    }
   ],
   "source": [
    "x6['label'].describe()"
   ]
  },
  {
   "cell_type": "markdown",
   "metadata": {},
   "source": [
    "[발견한 점]\n",
    "1. sample의 개수가 rtt의 개수보다 많다.\n",
    "2. sample 이 rtt보다 비교적 낮은 label을 가지고 있다.\n",
    "3. 즉 rtt가 상대적으로 sample보다 높은 점수 주로 4점대? 를 가지고 있다.\n",
    "\n",
    "source별로 모델 돌리면? 데이터 수가 적다..\n",
    "source별로 데이터를 봐보자\n"
   ]
  },
  {
   "cell_type": "markdown",
   "metadata": {},
   "source": [
    "### 텍스트 전처리\n",
    "- ㅋㅋ 나 ㅎㅎ같은 단어들 지워보기(ㅋㅋㅋ, ㅎㅎㅎ, ㅜㅜ, ㅠㅠ, )\n",
    "    - 지우는게 나을지 ㅋ하나 ㅎ 하나로 대체하는게 나을지?\n",
    "- !, ~ 여러개 있는거 하나로 통함\n",
    "boostcamp-sts-v1-train-397,slack-rtt,ㅋㅋ물안경 뭔데욬ㅋㅋ,하하하하하하하하하하하하하하하하하하하하하하하하하하하하하하하하하하하하하하하하하하하하,0.0,0.0\n",
    "위와 같이 한쪽 문장 의미가 아예 없을 경우는 어떻게 하는게 좋을지?\n",
    "\n"
   ]
  },
  {
   "cell_type": "code",
   "execution_count": 4,
   "metadata": {},
   "outputs": [],
   "source": [
    "import re\n",
    "\n",
    "def make_one_chars(sentence):\n",
    "    # sentence = re.subn(s+'+',s, sentence)[0]\n",
    "    sentence = re.subn('ㅋ+', 'ㅋ', sentence)[0]\n",
    "    sentence = re.subn('ㅎ+', 'ㅎ', sentence)[0]\n",
    "    sentence = re.subn(';+', ';', sentence)[0]\n",
    "    sentence = re.subn('!+', '!', sentence)[0]\n",
    "    sentence = re.subn('\\?+', '?', sentence)[0]\n",
    "    sentence = re.subn('ㅠ+', 'ㅠ', sentence)[0]\n",
    "    sentence = re.subn('~+', '~', sentence)[0]\n",
    "\n",
    "    return sentence\n",
    "# def make_kh_one(sentence):\n",
    "#     while \"ㅋㅋ\" in sentence:\n",
    "#         sentence.replace(\"ㅋㅋ\", \"ㅋ\")\n",
    "#     while \"ㅎㅎ\" in sentence:\n",
    "#         sentence.replace(\"ㅎㅎ\", \"ㅎ\")\n",
    "#     return sentence\n",
    "\n",
    "def remove_char(sentence): #ㅋㅋㅋ 나 ㅎㅎ가 연속으로 나오는거 필요 없을 수도 있으니 아예 제거하는\n",
    "    # pattern = re.compile('[ㅋ+]')\n",
    "    sentence = re.sub('[ㅋ+]', '', sentence)\n",
    "    sentence = re.sub('[ㅎ+]', '', sentence)\n",
    "    return sentence\n"
   ]
  },
  {
   "cell_type": "code",
   "execution_count": 5,
   "metadata": {},
   "outputs": [
    {
     "name": "stdout",
     "output_type": "stream",
     "text": [
      "                               id            source  \\\n",
      "0      boostcamp-sts-v1-train-000      nsmc-sampled   \n",
      "1      boostcamp-sts-v1-train-001         slack-rtt   \n",
      "2      boostcamp-sts-v1-train-002  petition-sampled   \n",
      "3      boostcamp-sts-v1-train-003     slack-sampled   \n",
      "4      boostcamp-sts-v1-train-004     slack-sampled   \n",
      "...                           ...               ...   \n",
      "9319  boostcamp-sts-v1-train-9319  petition-sampled   \n",
      "9320  boostcamp-sts-v1-train-9320  petition-sampled   \n",
      "9321  boostcamp-sts-v1-train-9321  petition-sampled   \n",
      "9322  boostcamp-sts-v1-train-9322     slack-sampled   \n",
      "9323  boostcamp-sts-v1-train-9323  petition-sampled   \n",
      "\n",
      "                                  sentence_1  \\\n",
      "0     스릴도있고 반전도 있고 여느 한국영화 쓰레기들하고는 차원이 다르네요~   \n",
      "1                       앗 제가 접근권한이 없다고 뜹니다;;   \n",
      "2                             주택청약조건 변경해주세요.   \n",
      "3                     입사후 처음 대면으로 만나 반가웠습니다.   \n",
      "4                                 뿌듯뿌듯 하네요!!   \n",
      "...                                      ...   \n",
      "9319    교원능력개발평가에서 교원이 보호받을 수 있는 장치를 마련해야합니다   \n",
      "9320                         여성가족부의 폐지를 원합니드   \n",
      "9321                         국회의원들 월급좀 줄여주세요   \n",
      "9322           오늘 못한 점심은 다음에 다시 츄라이 하기로 해요!!   \n",
      "9323                        법정공휴일 휴무관련 (근로자)   \n",
      "\n",
      "                                         sentence_2  label  binary-label  \n",
      "0                              반전도 있고,사랑도 있고재미도있네요.    2.2           0.0  \n",
      "1                               오, 액세스 권한이 없다고 합니다.    4.2           1.0  \n",
      "2                                주택청약 무주택기준 변경해주세요.    2.4           0.0  \n",
      "3                      화상으로만 보다가 리얼로 만나니 정말 반가웠습니다.    3.0           1.0  \n",
      "4                             꼬옥 실제로 한번 뵈어요 뿌뿌뿌~!~!    0.0           0.0  \n",
      "...                                             ...    ...           ...  \n",
      "9319  본인이 납부한 국민연금 금액을 기준으로 대출을 받을 수 있는 제도를 마련해 주세요    0.2           0.0  \n",
      "9320                              여성가족부 폐지를 청원 합니다.    4.2           1.0  \n",
      "9321                               공무원 봉급좀 줄이지좀 마세요    0.6           0.0  \n",
      "9322                       오늘 못먹은 밥은 꼭 담에 먹기로 하고요!!    3.2           1.0  \n",
      "9323                         법정공휴일의 유급휴무화를 막아야 합니다.    1.4           0.0  \n",
      "\n",
      "[9324 rows x 6 columns]\n"
     ]
    }
   ],
   "source": [
    "df_test = train_df\n",
    "# df_test['sentence_1']\n",
    "test1 = []\n",
    "test2 = []\n",
    "# i = 0\n",
    "for s in train_df['sentence_1']:\n",
    "    sen_temp = s\n",
    "    sen_temp = make_one_chars(sen_temp)\n",
    "    test1.append(sen_temp)\n",
    "    # i += 1\n",
    "for s in train_df['sentence_2']:\n",
    "    sen_temp = s\n",
    "    sen_temp = make_one_chars(sen_temp)\n",
    "    test2.append(sen_temp)\n",
    "\n",
    "\n",
    "\n",
    "print(df_test)"
   ]
  },
  {
   "cell_type": "markdown",
   "metadata": {},
   "source": [
    "### 띄어쓰기, 맞춤법 고치기 py-Hanspell 사용"
   ]
  },
  {
   "cell_type": "code",
   "execution_count": 1,
   "metadata": {},
   "outputs": [
    {
     "name": "stdout",
     "output_type": "stream",
     "text": [
      "Collecting git+https://github.com/ssut/py-hanspell.git\n",
      "  Cloning https://github.com/ssut/py-hanspell.git to /tmp/pip-req-build-kc3zyfoc\n",
      "Requirement already satisfied (use --upgrade to upgrade): py-hanspell==1.1 from git+https://github.com/ssut/py-hanspell.git in /opt/conda/lib/python3.8/site-packages\n",
      "Requirement already satisfied: requests in /opt/conda/lib/python3.8/site-packages (from py-hanspell==1.1) (2.28.1)\n",
      "Requirement already satisfied: idna<4,>=2.5 in /opt/conda/lib/python3.8/site-packages (from requests->py-hanspell==1.1) (3.4)\n",
      "Requirement already satisfied: urllib3<1.27,>=1.21.1 in /opt/conda/lib/python3.8/site-packages (from requests->py-hanspell==1.1) (1.26.12)\n",
      "Requirement already satisfied: charset-normalizer<3,>=2 in /opt/conda/lib/python3.8/site-packages (from requests->py-hanspell==1.1) (2.1.1)\n",
      "Requirement already satisfied: certifi>=2017.4.17 in /opt/conda/lib/python3.8/site-packages (from requests->py-hanspell==1.1) (2022.9.24)\n",
      "Building wheels for collected packages: py-hanspell\n",
      "  Building wheel for py-hanspell (setup.py) ... \u001b[?25ldone\n",
      "\u001b[?25h  Created wheel for py-hanspell: filename=py_hanspell-1.1-py3-none-any.whl size=4838 sha256=8064e32065ae51cf7ff52e5b88e68daee2733fb44126ddc412e4f4a99cc18273\n",
      "  Stored in directory: /tmp/pip-ephem-wheel-cache-n702hl3z/wheels/3f/a5/73/e4d2806ae141d274fdddaabf8c0ed79be9357d36bfdc99e4b4\n",
      "Successfully built py-hanspell\n"
     ]
    }
   ],
   "source": [
    "!pip install git+https://github.com/ssut/py-hanspell.git"
   ]
  },
  {
   "cell_type": "code",
   "execution_count": 6,
   "metadata": {},
   "outputs": [
    {
     "name": "stdout",
     "output_type": "stream",
     "text": [
      "error1\n",
      "error1\n",
      "error1\n",
      "error1\n",
      "error1\n",
      "error1\n",
      "error1\n",
      "error2\n",
      "error2\n",
      "error2\n",
      "error2\n"
     ]
    }
   ],
   "source": [
    "from hanspell import spell_checker\n",
    "\n",
    "fixed_test1 = []\n",
    "fixed_test2 = []\n",
    "\n",
    "for s in test1:\n",
    "    try:\n",
    "        fixed_test1.append(spell_checker.check(s).checked)\n",
    "    except:\n",
    "        fixed_test1.append(s)\n",
    "        print('error1')\n",
    "for s in test2:\n",
    "    try:\n",
    "        fixed_test2.append(spell_checker.check(s).checked)\n",
    "    except:\n",
    "        fixed_test2.append(s)\n",
    "        print('error2')\n",
    "\n",
    "# df_test['sentence_1'] = fixed_test1\n",
    "# df_test['sentence_2'] = fixed_test2"
   ]
  },
  {
   "cell_type": "code",
   "execution_count": 7,
   "metadata": {},
   "outputs": [],
   "source": [
    "df_test['sentence_1'] = fixed_test1\n",
    "df_test['sentence_2'] = fixed_test2"
   ]
  },
  {
   "cell_type": "code",
   "execution_count": 10,
   "metadata": {},
   "outputs": [],
   "source": [
    "csv = df_test.to_csv('./processed_hanspell_1.csv',index=False)"
   ]
  },
  {
   "cell_type": "code",
   "execution_count": 9,
   "metadata": {},
   "outputs": [
    {
     "data": {
      "text/html": [
       "<div>\n",
       "<style scoped>\n",
       "    .dataframe tbody tr th:only-of-type {\n",
       "        vertical-align: middle;\n",
       "    }\n",
       "\n",
       "    .dataframe tbody tr th {\n",
       "        vertical-align: top;\n",
       "    }\n",
       "\n",
       "    .dataframe thead th {\n",
       "        text-align: right;\n",
       "    }\n",
       "</style>\n",
       "<table border=\"1\" class=\"dataframe\">\n",
       "  <thead>\n",
       "    <tr style=\"text-align: right;\">\n",
       "      <th></th>\n",
       "      <th>id</th>\n",
       "      <th>source</th>\n",
       "      <th>sentence_1</th>\n",
       "      <th>sentence_2</th>\n",
       "      <th>label</th>\n",
       "      <th>binary-label</th>\n",
       "    </tr>\n",
       "  </thead>\n",
       "  <tbody>\n",
       "    <tr>\n",
       "      <th>0</th>\n",
       "      <td>boostcamp-sts-v1-train-000</td>\n",
       "      <td>nsmc-sampled</td>\n",
       "      <td>스릴도 있고 반전도 있고 여느 한국 영화 쓰레기들하고는 차원이 다르네요~</td>\n",
       "      <td>반전도 있고, 사랑도 있고 재미도 있네요.</td>\n",
       "      <td>2.2</td>\n",
       "      <td>0.0</td>\n",
       "    </tr>\n",
       "    <tr>\n",
       "      <th>1</th>\n",
       "      <td>boostcamp-sts-v1-train-001</td>\n",
       "      <td>slack-rtt</td>\n",
       "      <td>앗 제가 접근 권한이 없다고 뜹니다;</td>\n",
       "      <td>오, 액세스 권한이 없다고 합니다.</td>\n",
       "      <td>4.2</td>\n",
       "      <td>1.0</td>\n",
       "    </tr>\n",
       "    <tr>\n",
       "      <th>2</th>\n",
       "      <td>boostcamp-sts-v1-train-002</td>\n",
       "      <td>petition-sampled</td>\n",
       "      <td>주택청약조건 변경해주세요.</td>\n",
       "      <td>주택청약 무주택 기준 변경해주세요.</td>\n",
       "      <td>2.4</td>\n",
       "      <td>0.0</td>\n",
       "    </tr>\n",
       "    <tr>\n",
       "      <th>3</th>\n",
       "      <td>boostcamp-sts-v1-train-003</td>\n",
       "      <td>slack-sampled</td>\n",
       "      <td>입사 후 처음 대면으로 만나 반가웠습니다.</td>\n",
       "      <td>화상으로만 보다가 리얼로 만나니 정말 반가웠습니다.</td>\n",
       "      <td>3.0</td>\n",
       "      <td>1.0</td>\n",
       "    </tr>\n",
       "    <tr>\n",
       "      <th>4</th>\n",
       "      <td>boostcamp-sts-v1-train-004</td>\n",
       "      <td>slack-sampled</td>\n",
       "      <td>뿌듯 뿌듯하네요!</td>\n",
       "      <td>꼬옥 실제로 한번 뵈어요 뿌 뿌 푸~!~!</td>\n",
       "      <td>0.0</td>\n",
       "      <td>0.0</td>\n",
       "    </tr>\n",
       "    <tr>\n",
       "      <th>...</th>\n",
       "      <td>...</td>\n",
       "      <td>...</td>\n",
       "      <td>...</td>\n",
       "      <td>...</td>\n",
       "      <td>...</td>\n",
       "      <td>...</td>\n",
       "    </tr>\n",
       "    <tr>\n",
       "      <th>9319</th>\n",
       "      <td>boostcamp-sts-v1-train-9319</td>\n",
       "      <td>petition-sampled</td>\n",
       "      <td>교원능력개발평가에서 교원이 보호받을 수 있는 장치를 마련해야 합니다</td>\n",
       "      <td>본인이 납부한 국민연금 금액을 기준으로 대출을 받을 수 있는 제도를 마련해 주세요</td>\n",
       "      <td>0.2</td>\n",
       "      <td>0.0</td>\n",
       "    </tr>\n",
       "    <tr>\n",
       "      <th>9320</th>\n",
       "      <td>boostcamp-sts-v1-train-9320</td>\n",
       "      <td>petition-sampled</td>\n",
       "      <td>여성가족부의 폐지를 원합 니드</td>\n",
       "      <td>여성가족부 폐지를 청원합니다.</td>\n",
       "      <td>4.2</td>\n",
       "      <td>1.0</td>\n",
       "    </tr>\n",
       "    <tr>\n",
       "      <th>9321</th>\n",
       "      <td>boostcamp-sts-v1-train-9321</td>\n",
       "      <td>petition-sampled</td>\n",
       "      <td>국회의원들 월급 좀 줄여주세요</td>\n",
       "      <td>공무원 봉급 좀 줄이지 좀 마세요</td>\n",
       "      <td>0.6</td>\n",
       "      <td>0.0</td>\n",
       "    </tr>\n",
       "    <tr>\n",
       "      <th>9322</th>\n",
       "      <td>boostcamp-sts-v1-train-9322</td>\n",
       "      <td>slack-sampled</td>\n",
       "      <td>오늘 못한 점심은 다음에 다시 트라이 하기로 해요!</td>\n",
       "      <td>오늘 못 먹은 밥은 꼭 담에 먹기로 하고요!</td>\n",
       "      <td>3.2</td>\n",
       "      <td>1.0</td>\n",
       "    </tr>\n",
       "    <tr>\n",
       "      <th>9323</th>\n",
       "      <td>boostcamp-sts-v1-train-9323</td>\n",
       "      <td>petition-sampled</td>\n",
       "      <td>법정공휴일 휴무 관련 (근로자)</td>\n",
       "      <td>법정공휴일의 유급휴무화를 막아야 합니다.</td>\n",
       "      <td>1.4</td>\n",
       "      <td>0.0</td>\n",
       "    </tr>\n",
       "  </tbody>\n",
       "</table>\n",
       "<p>9324 rows × 6 columns</p>\n",
       "</div>"
      ],
      "text/plain": [
       "                               id            source  \\\n",
       "0      boostcamp-sts-v1-train-000      nsmc-sampled   \n",
       "1      boostcamp-sts-v1-train-001         slack-rtt   \n",
       "2      boostcamp-sts-v1-train-002  petition-sampled   \n",
       "3      boostcamp-sts-v1-train-003     slack-sampled   \n",
       "4      boostcamp-sts-v1-train-004     slack-sampled   \n",
       "...                           ...               ...   \n",
       "9319  boostcamp-sts-v1-train-9319  petition-sampled   \n",
       "9320  boostcamp-sts-v1-train-9320  petition-sampled   \n",
       "9321  boostcamp-sts-v1-train-9321  petition-sampled   \n",
       "9322  boostcamp-sts-v1-train-9322     slack-sampled   \n",
       "9323  boostcamp-sts-v1-train-9323  petition-sampled   \n",
       "\n",
       "                                    sentence_1  \\\n",
       "0     스릴도 있고 반전도 있고 여느 한국 영화 쓰레기들하고는 차원이 다르네요~   \n",
       "1                         앗 제가 접근 권한이 없다고 뜹니다;   \n",
       "2                               주택청약조건 변경해주세요.   \n",
       "3                      입사 후 처음 대면으로 만나 반가웠습니다.   \n",
       "4                                    뿌듯 뿌듯하네요!   \n",
       "...                                        ...   \n",
       "9319     교원능력개발평가에서 교원이 보호받을 수 있는 장치를 마련해야 합니다   \n",
       "9320                          여성가족부의 폐지를 원합 니드   \n",
       "9321                          국회의원들 월급 좀 줄여주세요   \n",
       "9322              오늘 못한 점심은 다음에 다시 트라이 하기로 해요!   \n",
       "9323                         법정공휴일 휴무 관련 (근로자)   \n",
       "\n",
       "                                         sentence_2  label  binary-label  \n",
       "0                           반전도 있고, 사랑도 있고 재미도 있네요.    2.2           0.0  \n",
       "1                               오, 액세스 권한이 없다고 합니다.    4.2           1.0  \n",
       "2                               주택청약 무주택 기준 변경해주세요.    2.4           0.0  \n",
       "3                      화상으로만 보다가 리얼로 만나니 정말 반가웠습니다.    3.0           1.0  \n",
       "4                           꼬옥 실제로 한번 뵈어요 뿌 뿌 푸~!~!    0.0           0.0  \n",
       "...                                             ...    ...           ...  \n",
       "9319  본인이 납부한 국민연금 금액을 기준으로 대출을 받을 수 있는 제도를 마련해 주세요    0.2           0.0  \n",
       "9320                               여성가족부 폐지를 청원합니다.    4.2           1.0  \n",
       "9321                             공무원 봉급 좀 줄이지 좀 마세요    0.6           0.0  \n",
       "9322                       오늘 못 먹은 밥은 꼭 담에 먹기로 하고요!    3.2           1.0  \n",
       "9323                         법정공휴일의 유급휴무화를 막아야 합니다.    1.4           0.0  \n",
       "\n",
       "[9324 rows x 6 columns]"
      ]
     },
     "execution_count": 9,
     "metadata": {},
     "output_type": "execute_result"
    }
   ],
   "source": [
    "df_test"
   ]
  },
  {
   "cell_type": "markdown",
   "metadata": {},
   "source": [
    "### 불용어 처리"
   ]
  },
  {
   "cell_type": "markdown",
   "metadata": {},
   "source": []
  }
 ],
 "metadata": {
  "kernelspec": {
   "display_name": "Python 3.8.5 ('base')",
   "language": "python",
   "name": "python3"
  },
  "language_info": {
   "codemirror_mode": {
    "name": "ipython",
    "version": 3
   },
   "file_extension": ".py",
   "mimetype": "text/x-python",
   "name": "python",
   "nbconvert_exporter": "python",
   "pygments_lexer": "ipython3",
   "version": "3.8.5"
  },
  "orig_nbformat": 4,
  "vscode": {
   "interpreter": {
    "hash": "d4d1e4263499bec80672ea0156c357c1ee493ec2b1c70f0acce89fc37c4a6abe"
   }
  }
 },
 "nbformat": 4,
 "nbformat_minor": 2
}
